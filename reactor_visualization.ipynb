{
 "cells": [
  {
   "cell_type": "code",
   "execution_count": 6,
   "outputs": [],
   "source": [
    "from plotly.offline import init_notebook_mode, iplot\n",
    "from visualization import *\n",
    "from reactor import Reactor\n",
    "from samplers import KNNSampler\n",
    "from supervisor import DrugDiscoverySupervisor"
   ],
   "metadata": {
    "collapsed": false,
    "pycharm": {
     "name": "#%%\n"
    }
   }
  },
  {
   "cell_type": "code",
   "execution_count": 7,
   "outputs": [
    {
     "name": "stdout",
     "output_type": "stream",
     "text": [
      "[['[H]C([H])([H])C#N', '9', None], ['COc1ccc2[nH]cc(CCN(C(C)=O)C(=S)NC(C)c3ccc4c(c3)CCC4)c2c1', '34', 'ZINC09246082'], ['COc1ccc2[nH]cc(CCN(C(C)=O)C(=O)c3ccco3)c2c1', '20', 'ZINC06093486'], ['COc1ccc2[nH]cc(CCN(C(C)=O)C(=S)NC(=O)c3cccc(Br)c3)c2c1', '34', 'ZINC34616987'], ['[H]C([H])([H])C#N', '9', None], ['COc1ccc2[nH]cc(CCN(C(C)=O)C(=O)C(=O)[O-])c2c1', '28', 'ZINC60135227'], ['COc1ccc2[nH]cc(CCN(C(C)=O)C(=O)OCC3COC(C)(C)O3)c2c1', '14', 'ZINC59231773'], ['CCC(C)(Br)C(=O)OC(C)NCCc1c[nH]c2ccc(OC)cc12', '16', 'ZINC01679943'], ['[H]C([H])([H])N=[N+]=[N-]', '8', None], ['C=CC(=O)OC(C)NCCc1c[nH]c2ccc(OC)cc12', '16', 'ZINC60300138'], ['COc1ccc2[nH]cc(CCN(C(C)=O)C(=S)Nc3ccn(Cc4cccc(C)c4)n3)c2c1', '34', 'ZINC02536524'], ['CCn1cc(NC(=O)N(CCc2c[nH]c3ccc(OC)cc23)C(C)=O)c2ccccc21', '33', 'ZINC19723539'], ['[H]C([H])([H])N=[N+]=[N-]', '8', None], ['COc1ccc2[nH]cc(CCNC(C)OC(=S)Nc3c(Cl)cc(Cl)cc3C#N)c2c1', '38', 'ZINC04313175'], ['COc1ccc2[nH]cc(CCNC(C)OC(=O)Nc3ccc(Cl)cc3[N+](=O)[O-])c2c1', '37', 'ZINC04978047'], ['COc1ccc2[nH]cc(CCN(C(C)=O)C(=O)CCCl)c2c1', '20', 'ZINC01736653'], ['[H]C([H])([H])C#N', '9', None], ['COc1ccc2[nH]cc(CCN(C(C)=O)C(=O)c3ccccc3OC(F)(F)F)c2c1', '20', 'ZINC39057370'], ['[H]C([H])([H])N=[N+]=[N-]', '8', None], ['COc1ccc2[nH]cc(CCNC(C)OC(=O)c3ccc(F)cc3C(F)(F)F)c2c1', '16', 'ZINC00056984'], ['COc1ccc2[nH]cc(CCNC(C)OC(=S)NC(=O)c3ccccc3Br)c2c1', '38', 'ZINC35121729'], ['[H]C([H])([H])N=[N+]=[N-]', '8', None], ['COc1ccc2[nH]cc(CCNC(C)OC(=O)Nc3nonc3C)c2c1', '26', 'ZINC00039616'], ['COc1ccc2[nH]cc(CCN(C(C)=O)C(=O)C(N=Cc3ccccc3)=C(Cl)Cl)c2c1', '15', 'ZINC00349148'], ['CCOC(=O)C(OC(C)NCCc1c[nH]c2ccc(OC)cc12)(C(N)=O)C(C)(O)CC', '1', 'ZINC03957687'], ['COc1ccc2[nH]cc(CCNC(C)OC(=O)NC(Cc3ccco3)c3cccc(Cl)c3)c2c1', '37', 'ZINC32103339'], ['COc1ccc2[nH]cc(CCNC(C)OC(=O)C3C=CC(=O)N(C)C3=O)c2c1', '16', 'ZINC59910894'], ['CCC1(C(=O)OC(C)NCCc2c[nH]c3ccc(OC)cc23)OC1c1ccc(OC)cc1', '26', 'ZINC00507828'], ['COc1ccc2[nH]cc(CCN(C(C)=O)C(=O)OC3CS(=O)(=O)CC3O)c2c1', '14', 'ZINC05161078'], ['[H]C([H])([H])C#N', '9', None], ['COc1ccc2[nH]cc(CCN(C(C)=O)C(=O)C3CCCN3S(=O)(=O)N(C)C)c2c1', '20', 'ZINC11894983'], ['CCOc1ccccc1CC(CC)C(=O)N(CCc1c[nH]c2ccc(OC)cc12)C(C)=O', '20', 'ZINC11977899'], ['CCOC(=O)N(CCc1c[nH]c2ccc(OC)cc12)C(C)=O', '28', 'ZINC59186337'], ['COc1ccc2[nH]cc(CCN(C(C)=O)C(=O)OC(C)c3ccccc3[N+](=O)[O-])c2c1', '14', 'ZINC34550272'], ['COc1ccc2[nH]cc(CCNC(C)OC(=O)c3cnn4c(C)c(C(C)=O)cnc34)c2c1', '16', 'ZINC00040677'], ['COc1ccc2[nH]cc(CCN(C(C)=O)C(=O)CCCc3ccc4c(c3)CCCC4)c2c1', '20', 'ZINC11631072'], ['COc1ccc2[nH]cc(CCN(C(C)=O)C(=O)OCCBr)c2c1', '20', 'ZINC02242592'], ['COc1ccc2[nH]cc(CCNC(C)OC(=O)C3=C(F)C(F)=C(F)C3(F)F)c2c1', '21', 'ZINC39057189'], ['CCC(C)C(N=C=O)C(=O)N(CCc1c[nH]c2ccc(OC)cc12)C(C)=O', '25', 'ZINC04267077'], ['COc1ccc2[nH]cc(CCNC(C)OC(=O)CCOc3ccccc3)c2c1', '21', 'ZINC59208585'], ['COc1ccc2[nH]cc(CCN(C(C)=O)C(=O)Nc3cc([N+](=O)[O-])cc([N+](=O)[O-])c3)c2c1', '33', 'ZINC02557997'], ['COc1ccc(C(C)C(=O)OC(C)NCCc2c[nH]c3ccc(OC)cc23)cc1', '29', 'ZINC59093737'], ['CCCCOC(=O)N(CCc1c[nH]c2ccc(OC)cc12)C(C)=O', '28', 'ZINC59649724'], ['COc1ccc2[nH]cc(CCNC(C)OC(=O)CCBr)c2c1', '26', 'ZINC01621115'], ['COc1ccc2[nH]cc(CCN(C(C)=O)C(=O)Oc3cc(Cl)nc(C)n3)c2c1', '14', 'ZINC60034165'], ['COc1ccc2[nH]cc(CCNC(C)OC(=O)Oc3ccccc3)c2c1', '29', 'ZINC59791555'], ['CCC(C(=O)OC(C)NCCc1c[nH]c2ccc(OC)cc12)C(C)C', '29', 'ZINC59600192'], ['COc1ccc2[nH]cc(CCN(C(C)=O)C(=O)Sc3sc4ccccc4[n+]3C)c2c1', '15', 'ZINC05677351'], ['COc1ccc2[nH]cc(CCN(C(C)=O)C(=O)C(C)=CC(=O)[O-])c2c1', '28', 'ZINC59696348'], ['CCC(C)C(N)C(=O)N(CCc1c[nH]c2ccc(OC)cc12)C(C)=O', '15', 'ZINC49766664'], ['[H]C([H])([H])C#N', '9', None], ['COc1ccc(NC(=S)OC(C)NCCc2c[nH]c3ccc(OC)cc23)c(OC)c1', '38', 'ZINC00164845'], ['COc1ccc2[nH]cc(CCNC(C)OC(C)(C(N)=O)C3(O)CCCCC3)c2c1', '1', 'ZINC01704910'], ['COc1ccc2[nH]cc(CCNC(C)OC(=S)NC(C)C(C)C)c2c1', '38', 'ZINC02528100'], ['COc1ccc2[nH]cc(CCNC(C)OC(=O)C(C)=CN=[N+]=[N-])c2c1', '26', 'ZINC17175261'], ['[H]C([H])([H])N=[N+]=[N-]', '8', None], ['[H]C([H])([H])C#N', '9', None], ['COc1ccc(CCC(=O)OC(C)NCCc2c[nH]c3ccc(OC)cc23)cc1', '21', 'ZINC02578899'], ['[H]C([H])([H])N=[N+]=[N-]', '8', None], ['CCC(C)(C(=O)OC(C)NCCc1c[nH]c2ccc(OC)cc12)C(C)CC#N', '29', 'ZINC59600156'], ['COc1ccc2[nH]cc(CCNC(C)OC(=O)NC3N=CN(N=C=S)C(N=C=S)=N3)c2c1', '37', 'ZINC60146926'], ['CCC(C)C(=O)N(CCc1c[nH]c2ccc(OC)cc12)C(C)=O', '28', 'ZINC59381363'], ['COc1ccc2[nH]cc(CCNC(C)OC(=S)NCCOc3cccc(C)c3C)c2c1', '38', 'ZINC09246095'], ['COc1ccc2[nH]cc(CCNC(C)OC(=S)NCCc3c[nH]c4ccc(O)cc34)c2c1', '38', 'ZINC28825366'], ['COc1ccc2[nH]cc(CCN(C(C)=O)C(=O)CC3C=CCS3)c2c1', '28', 'ZINC43366251'], ['CCCCCC(=O)N(CCc1c[nH]c2ccc(OC)cc12)C(C)=O', '28', 'ZINC60297210'], ['COc1ccc2[nH]cc(CCN(C(C)=O)C(=O)c3cc(Cl)c(O)c(Cl)c3)c2c1', '25', 'ZINC00058255'], ['COc1ccc2[nH]cc(CCNC(C)OC(=O)C(C)c3cc4ccccc4o3)c2c1', '29', 'ZINC59093971'], ['COc1ccc2[nH]cc(CCN(C(C)=O)C(=O)NCl)c2c1', '28', 'ZINC59452353'], ['COc1ccc2[nH]cc(CCNC(C)OC(=S)NCc3ccc(-c4ccccc4)cc3)c2c1', '38', 'ZINC36533359'], ['COc1ccc2[nH]cc(CCN(C(C)=O)C(=S)Nc3ccc4oc(C5NCC[NH2+]5)cc4c3)c2c1', '34', 'ZINC00025670'], ['COc1ccc2[nH]cc(CCNC(C)OC(=S)Nc3cc(C)on3)c2c1', '38', 'ZINC02582838'], ['COc1ccc2[nH]cc(CCN(C(C)=O)C(C)=O)c2c1', '28', 'ZINC59093675'], ['COc1ccc2[nH]cc(CCNC(C)OC(=O)OC(C)(C)C)c2c1', '29', 'ZINC59916151'], ['[H]C([H])([H])C#N', '9', None], ['COc1ccc2[nH]cc(CCN(C(C)=O)C(=O)CCCCCC(C)C)c2c1', '20', 'ZINC02545293'], ['CCc1ccc(C(C)CC(=O)N(CCc2c[nH]c3ccc(OC)cc23)C(C)=O)cc1', '20', 'ZINC11629160'], ['C=CCCOC(=O)N(CCc1c[nH]c2ccc(OC)cc12)C(C)=O', '14', 'ZINC02545380'], ['COc1ccc2[nH]cc(CCNC(C)OC(=O)C3C(C)CCCC3C)c2c1', '29', 'ZINC59093860'], ['COc1ccc2[nH]cc(CCNC(C)OC(=O)C=CC(=O)[O-])c2c1', '29', 'ZINC60105410'], ['CCC(=O)NC(CC)C(=O)OC(C)NCCc1c[nH]c2ccc(OC)cc12', '21', 'ZINC11893193'], ['COc1ccc2[nH]cc(CCN(C(C)=O)C(=O)C=CI)c2c1', '15', 'ZINC06731754'], ['CC=CCC(C)C(=O)OC(C)NCCc1c[nH]c2ccc(OC)cc12', '29', 'ZINC64633512'], ['COc1ccc2[nH]cc(CCNC(C)OC(=O)C3([NH3+])CCC3I)c2c1', '16', 'ZINC34866588'], ['COc1ccc2[nH]cc(CCN(C(C)=O)C(=O)Cl)c2c1', '25', 'ZINC02504713'], ['[H]C([H])([H])N=[N+]=[N-]', '8', None], ['CCCCCCC(Br)C(=O)N(CCc1c[nH]c2ccc(OC)cc12)C(C)=O', '25', 'ZINC01589672'], ['CCCC(Br)C(=O)N(CCc1c[nH]c2ccc(OC)cc12)C(C)=O', '25', 'ZINC02042958'], ['COc1ccc2[nH]cc(CCNC(C)OC(=O)C3(c4ccccc4OC)CCC3)c2c1', '21', 'ZINC11833976'], ['COc1ccc2[nH]cc(CCN(C(C)=O)C(=O)CCCCc3ccc(C)cc3)c2c1', '20', 'ZINC11631158'], ['COc1ccc2[nH]cc(CCNC(C)OC(=O)CC(c3ccccc3)C3CC3)c2c1', '21', 'ZINC11629237'], ['[H]C([H])([H])N=[N+]=[N-]', '8', None], ['COc1ccc2[nH]cc(CCN(C(C)=O)C(=O)Nc3ccc(Cl)cc3C#N)c2c1', '33', 'ZINC03885923'], ['COc1ccc2[nH]cc(CCNC(C)OC(=O)NC3CCCO3)c2c1', '37', 'ZINC19426258'], ['COc1ccc2[nH]cc(CCNC(C)OC(=S)NC(C)SC)c2c1', '38', 'ZINC59952478'], ['COc1ccc2[nH]cc(CCNC(C)OC(=O)Cc3ccc(F)cc3F)c2c1', '21', 'ZINC12953110'], ['COc1ccc2[nH]cc(CCNC(C)OC(=O)NC3CCCCCCC3)c2c1', '37', 'ZINC12957543'], ['COc1ccc2[nH]cc(CCNC(C)OC3(C#N)C(O)(Cl)CCCC3(Cl)Cl)c2c1', '1', 'ZINC00494868'], ['COc1ccc2[nH]cc(CCN(C(C)=O)C(=O)C(C)Cc3cccs3)c2c1', '20', 'ZINC11977331'], ['[H]C([H])([H])N=[N+]=[N-]', '8', None]]\n"
     ]
    }
   ],
   "source": [
    "reactor = Reactor([\"ClickChem\", \"\", \"\", \"\"], [], {})\n",
    "parent_smile = 'CC(=O)NCCc1c[nH]c2ccc(OC)cc12 '  # Melatonin\n",
    "child_info = reactor.run_Smile_Click(parent_smile)\n",
    "children = []\n",
    "n_child = 100\n",
    "\n",
    "for i in range(n_child):\n",
    "    child_info = reactor.run_Smile_Click(parent_smile)\n",
    "    if child_info is None:\n",
    "        continue\n",
    "    else:\n",
    "        children.append(child_info)\n",
    "        reactor.update_list_of_already_made_smiles(children)\n",
    "print(children)"
   ],
   "metadata": {
    "collapsed": false,
    "pycharm": {
     "name": "#%%\n"
    }
   }
  },
  {
   "cell_type": "code",
   "execution_count": 8,
   "outputs": [],
   "source": [
    "#app, fig = visualize_chemical_space([c[0] for c in children], components_mode='pca')\n",
    "#app.run_server(mode='inline', port=8001, height=1000)"
   ],
   "metadata": {
    "collapsed": false,
    "pycharm": {
     "name": "#%%\n"
    }
   }
  },
  {
   "cell_type": "code",
   "execution_count": 9,
   "outputs": [
    {
     "data": {
      "application/3dmoljs_load.v0": "<div id=\"3dmolviewer_16539815922129512\"  style=\"position: relative; width: 640px; height: 480px\">\n        <p id=\"3dmolwarning_16539815922129512\" style=\"background-color:#ffcccc;color:black\">You appear to be running in JupyterLab (or JavaScript failed to load for some other reason).  You need to install the 3dmol extension: <br>\n        <tt>jupyter labextension install jupyterlab_3dmol</tt></p>\n        </div>\n<script>\n\nvar loadScriptAsync = function(uri){\n  return new Promise((resolve, reject) => {\n    var tag = document.createElement('script');\n    tag.src = uri;\n    tag.async = true;\n    tag.onload = () => {\n      resolve();\n    };\n  var firstScriptTag = document.getElementsByTagName('script')[0];\n  firstScriptTag.parentNode.insertBefore(tag, firstScriptTag);\n});\n};\n\nif(typeof $3Dmolpromise === 'undefined') {\n$3Dmolpromise = null;\n  $3Dmolpromise = loadScriptAsync('https://3dmol.org/build/3Dmol.js');\n}\n\nvar viewer_16539815922129512 = null;\nvar warn = document.getElementById(\"3dmolwarning_16539815922129512\");\nif(warn) {\n    warn.parentNode.removeChild(warn);\n}\n$3Dmolpromise.then(function() {\nviewer_16539815922129512 = $3Dmol.createViewer($(\"#3dmolviewer_16539815922129512\"),{backgroundColor:\"white\"});\nviewer_16539815922129512.zoomTo();\n\tviewer_16539815922129512.addModel(\"\\n     RDKit          3D\\n\\n 33 34  0  0  0  0  0  0  0  0999 V2000\\n    4.5260    2.2219   -0.3996 C   0  0  0  0  0  0  0  0  0  0  0  0\\n    3.2079    1.5308   -0.3016 C   0  0  0  0  0  0  0  0  0  0  0  0\\n    2.2688    2.0363    0.3795 O   0  0  0  0  0  0  0  0  0  0  0  0\\n    3.0253    0.2990   -0.9837 N   0  0  0  0  0  0  0  0  0  0  0  0\\n    1.7784   -0.4419   -0.9415 C   0  0  0  0  0  0  0  0  0  0  0  0\\n    1.4275   -0.8371    0.4778 C   0  0  0  0  0  0  0  0  0  0  0  0\\n    0.1576   -1.5945    0.5335 C   0  0  0  0  0  0  0  0  0  0  0  0\\n    0.0082   -2.9527    0.6973 C   0  0  0  0  0  0  0  0  0  0  0  0\\n   -1.3051   -3.2552    0.6945 N   0  0  0  0  0  0  0  0  0  0  0  0\\n   -2.0183   -2.1453    0.5351 C   0  0  0  0  0  0  0  0  0  0  0  0\\n   -3.3833   -1.9517    0.4702 C   0  0  0  0  0  0  0  0  0  0  0  0\\n   -3.8971   -0.6833    0.2981 C   0  0  0  0  0  0  0  0  0  0  0  0\\n   -2.9955    0.3784    0.1942 C   0  0  0  0  0  0  0  0  0  0  0  0\\n   -3.5351    1.6505    0.0211 O   0  0  0  0  0  0  0  0  0  0  0  0\\n   -2.8043    2.8285   -0.1015 C   0  0  0  0  0  0  0  0  0  0  0  0\\n   -1.6322    0.1714    0.2607 C   0  0  0  0  0  0  0  0  0  0  0  0\\n   -1.1207   -1.0997    0.4330 C   0  0  0  0  0  0  0  0  0  0  0  0\\n    4.6539    2.7527   -1.3639 H   0  0  0  0  0  0  0  0  0  0  0  0\\n    5.3272    1.4718   -0.3039 H   0  0  0  0  0  0  0  0  0  0  0  0\\n    4.6411    2.9490    0.4239 H   0  0  0  0  0  0  0  0  0  0  0  0\\n    3.8425   -0.0645   -1.5311 H   0  0  0  0  0  0  0  0  0  0  0  0\\n    1.8663   -1.3179   -1.6047 H   0  0  0  0  0  0  0  0  0  0  0  0\\n    0.9880    0.2207   -1.3299 H   0  0  0  0  0  0  0  0  0  0  0  0\\n    1.3898    0.0303    1.1519 H   0  0  0  0  0  0  0  0  0  0  0  0\\n    2.2864   -1.4575    0.8488 H   0  0  0  0  0  0  0  0  0  0  0  0\\n    0.8561   -3.6189    0.8057 H   0  0  0  0  0  0  0  0  0  0  0  0\\n   -1.6799   -4.2240    0.8030 H   0  0  0  0  0  0  0  0  0  0  0  0\\n   -4.0534   -2.8096    0.5563 H   0  0  0  0  0  0  0  0  0  0  0  0\\n   -4.9630   -0.4963    0.2434 H   0  0  0  0  0  0  0  0  0  0  0  0\\n   -2.3493    3.0976    0.8895 H   0  0  0  0  0  0  0  0  0  0  0  0\\n   -3.5322    3.6281   -0.4086 H   0  0  0  0  0  0  0  0  0  0  0  0\\n   -2.0287    2.6800   -0.8825 H   0  0  0  0  0  0  0  0  0  0  0  0\\n   -0.9529    1.0034    0.1779 H   0  0  0  0  0  0  0  0  0  0  0  0\\n  1  2  1  0\\n  2  3  2  0\\n  2  4  1  0\\n  4  5  1  0\\n  5  6  1  0\\n  6  7  1  0\\n  7  8  2  0\\n  8  9  1  0\\n  9 10  1  0\\n 10 11  2  0\\n 11 12  1  0\\n 12 13  2  0\\n 13 14  1  0\\n 14 15  1  0\\n 13 16  1  0\\n 16 17  2  0\\n 17  7  1  0\\n 17 10  1  0\\n  1 18  1  0\\n  1 19  1  0\\n  1 20  1  0\\n  4 21  1  0\\n  5 22  1  0\\n  5 23  1  0\\n  6 24  1  0\\n  6 25  1  0\\n  8 26  1  0\\n  9 27  1  0\\n 11 28  1  0\\n 12 29  1  0\\n 15 30  1  0\\n 15 31  1  0\\n 15 32  1  0\\n 16 33  1  0\\nM  END\\n\",\"mol\");\n\tviewer_16539815922129512.setStyle({\"stick\": {}});\n\tviewer_16539815922129512.setBackgroundColor(\"white\");\n\tviewer_16539815922129512.zoomTo();\nviewer_16539815922129512.render();\n});\n</script>",
      "text/html": "<div id=\"3dmolviewer_16539815922129512\"  style=\"position: relative; width: 640px; height: 480px\">\n        <p id=\"3dmolwarning_16539815922129512\" style=\"background-color:#ffcccc;color:black\">You appear to be running in JupyterLab (or JavaScript failed to load for some other reason).  You need to install the 3dmol extension: <br>\n        <tt>jupyter labextension install jupyterlab_3dmol</tt></p>\n        </div>\n<script>\n\nvar loadScriptAsync = function(uri){\n  return new Promise((resolve, reject) => {\n    var tag = document.createElement('script');\n    tag.src = uri;\n    tag.async = true;\n    tag.onload = () => {\n      resolve();\n    };\n  var firstScriptTag = document.getElementsByTagName('script')[0];\n  firstScriptTag.parentNode.insertBefore(tag, firstScriptTag);\n});\n};\n\nif(typeof $3Dmolpromise === 'undefined') {\n$3Dmolpromise = null;\n  $3Dmolpromise = loadScriptAsync('https://3dmol.org/build/3Dmol.js');\n}\n\nvar viewer_16539815922129512 = null;\nvar warn = document.getElementById(\"3dmolwarning_16539815922129512\");\nif(warn) {\n    warn.parentNode.removeChild(warn);\n}\n$3Dmolpromise.then(function() {\nviewer_16539815922129512 = $3Dmol.createViewer($(\"#3dmolviewer_16539815922129512\"),{backgroundColor:\"white\"});\nviewer_16539815922129512.zoomTo();\n\tviewer_16539815922129512.addModel(\"\\n     RDKit          3D\\n\\n 33 34  0  0  0  0  0  0  0  0999 V2000\\n    4.5260    2.2219   -0.3996 C   0  0  0  0  0  0  0  0  0  0  0  0\\n    3.2079    1.5308   -0.3016 C   0  0  0  0  0  0  0  0  0  0  0  0\\n    2.2688    2.0363    0.3795 O   0  0  0  0  0  0  0  0  0  0  0  0\\n    3.0253    0.2990   -0.9837 N   0  0  0  0  0  0  0  0  0  0  0  0\\n    1.7784   -0.4419   -0.9415 C   0  0  0  0  0  0  0  0  0  0  0  0\\n    1.4275   -0.8371    0.4778 C   0  0  0  0  0  0  0  0  0  0  0  0\\n    0.1576   -1.5945    0.5335 C   0  0  0  0  0  0  0  0  0  0  0  0\\n    0.0082   -2.9527    0.6973 C   0  0  0  0  0  0  0  0  0  0  0  0\\n   -1.3051   -3.2552    0.6945 N   0  0  0  0  0  0  0  0  0  0  0  0\\n   -2.0183   -2.1453    0.5351 C   0  0  0  0  0  0  0  0  0  0  0  0\\n   -3.3833   -1.9517    0.4702 C   0  0  0  0  0  0  0  0  0  0  0  0\\n   -3.8971   -0.6833    0.2981 C   0  0  0  0  0  0  0  0  0  0  0  0\\n   -2.9955    0.3784    0.1942 C   0  0  0  0  0  0  0  0  0  0  0  0\\n   -3.5351    1.6505    0.0211 O   0  0  0  0  0  0  0  0  0  0  0  0\\n   -2.8043    2.8285   -0.1015 C   0  0  0  0  0  0  0  0  0  0  0  0\\n   -1.6322    0.1714    0.2607 C   0  0  0  0  0  0  0  0  0  0  0  0\\n   -1.1207   -1.0997    0.4330 C   0  0  0  0  0  0  0  0  0  0  0  0\\n    4.6539    2.7527   -1.3639 H   0  0  0  0  0  0  0  0  0  0  0  0\\n    5.3272    1.4718   -0.3039 H   0  0  0  0  0  0  0  0  0  0  0  0\\n    4.6411    2.9490    0.4239 H   0  0  0  0  0  0  0  0  0  0  0  0\\n    3.8425   -0.0645   -1.5311 H   0  0  0  0  0  0  0  0  0  0  0  0\\n    1.8663   -1.3179   -1.6047 H   0  0  0  0  0  0  0  0  0  0  0  0\\n    0.9880    0.2207   -1.3299 H   0  0  0  0  0  0  0  0  0  0  0  0\\n    1.3898    0.0303    1.1519 H   0  0  0  0  0  0  0  0  0  0  0  0\\n    2.2864   -1.4575    0.8488 H   0  0  0  0  0  0  0  0  0  0  0  0\\n    0.8561   -3.6189    0.8057 H   0  0  0  0  0  0  0  0  0  0  0  0\\n   -1.6799   -4.2240    0.8030 H   0  0  0  0  0  0  0  0  0  0  0  0\\n   -4.0534   -2.8096    0.5563 H   0  0  0  0  0  0  0  0  0  0  0  0\\n   -4.9630   -0.4963    0.2434 H   0  0  0  0  0  0  0  0  0  0  0  0\\n   -2.3493    3.0976    0.8895 H   0  0  0  0  0  0  0  0  0  0  0  0\\n   -3.5322    3.6281   -0.4086 H   0  0  0  0  0  0  0  0  0  0  0  0\\n   -2.0287    2.6800   -0.8825 H   0  0  0  0  0  0  0  0  0  0  0  0\\n   -0.9529    1.0034    0.1779 H   0  0  0  0  0  0  0  0  0  0  0  0\\n  1  2  1  0\\n  2  3  2  0\\n  2  4  1  0\\n  4  5  1  0\\n  5  6  1  0\\n  6  7  1  0\\n  7  8  2  0\\n  8  9  1  0\\n  9 10  1  0\\n 10 11  2  0\\n 11 12  1  0\\n 12 13  2  0\\n 13 14  1  0\\n 14 15  1  0\\n 13 16  1  0\\n 16 17  2  0\\n 17  7  1  0\\n 17 10  1  0\\n  1 18  1  0\\n  1 19  1  0\\n  1 20  1  0\\n  4 21  1  0\\n  5 22  1  0\\n  5 23  1  0\\n  6 24  1  0\\n  6 25  1  0\\n  8 26  1  0\\n  9 27  1  0\\n 11 28  1  0\\n 12 29  1  0\\n 15 30  1  0\\n 15 31  1  0\\n 15 32  1  0\\n 16 33  1  0\\nM  END\\n\",\"mol\");\n\tviewer_16539815922129512.setStyle({\"stick\": {}});\n\tviewer_16539815922129512.setBackgroundColor(\"white\");\n\tviewer_16539815922129512.zoomTo();\nviewer_16539815922129512.render();\n});\n</script>"
     },
     "metadata": {},
     "output_type": "display_data"
    }
   ],
   "source": [
    "p = visualize_3d_mol(parent_smile)\n",
    "p.show()"
   ],
   "metadata": {
    "collapsed": false,
    "pycharm": {
     "name": "#%%\n"
    }
   }
  },
  {
   "cell_type": "code",
   "execution_count": 12,
   "outputs": [
    {
     "name": "stderr",
     "output_type": "stream",
     "text": [
      "@> 1784 atoms and 1 coordinate set(s) were parsed in 0.02s.\n",
      "2022-05-31 11:34:27.715 DEBUG   .prody: 1784 atoms and 1 coordinate set(s) were parsed in 0.02s.\n",
      "@> 30 atoms and 1 coordinate set(s) were parsed in 0.00s.\n",
      "2022-05-31 11:34:27.836 DEBUG   .prody: 30 atoms and 1 coordinate set(s) were parsed in 0.00s.\n",
      "@> 30 atoms and 1 coordinate set(s) were parsed in 0.00s.\n",
      "2022-05-31 11:34:27.843 DEBUG   .prody: 30 atoms and 1 coordinate set(s) were parsed in 0.00s.\n",
      "@> 1784 atoms and 1 coordinate set(s) were parsed in 0.01s.\n",
      "2022-05-31 11:34:27.861 DEBUG   .prody: 1784 atoms and 1 coordinate set(s) were parsed in 0.01s.\n"
     ]
    },
    {
     "data": {
      "text/plain": "<IPython.lib.display.IFrame at 0x7fd8fd3274c0>",
      "text/html": "\n        <iframe\n            width=\"100%\"\n            height=\"1000\"\n            src=\"http://127.0.0.1:8001/\"\n            frameborder=\"0\"\n            allowfullscreen\n            \n        ></iframe>\n        "
     },
     "metadata": {},
     "output_type": "display_data"
    }
   ],
   "source": [
    "app = visualize_3d_complex_app('/home/giacomo/Documents/LCP_runs/docking/complexes/163/4UYG_163_ligand_1.pdb',\n",
    "                               '/home/giacomo/Documents/LCP_runs/docking/complexes/163/4UYG_163_protein.pdb', 10)\n",
    "app.run_server(mode='inline', port=8001, height=1000)"
   ],
   "metadata": {
    "collapsed": false,
    "pycharm": {
     "name": "#%%\n"
    }
   }
  },
  {
   "cell_type": "code",
   "execution_count": 10,
   "outputs": [],
   "source": [],
   "metadata": {
    "collapsed": false,
    "pycharm": {
     "name": "#%%\n"
    }
   }
  }
 ],
 "metadata": {
  "kernelspec": {
   "display_name": "Python 3",
   "language": "python",
   "name": "python3"
  },
  "language_info": {
   "codemirror_mode": {
    "name": "ipython",
    "version": 2
   },
   "file_extension": ".py",
   "mimetype": "text/x-python",
   "name": "python",
   "nbconvert_exporter": "python",
   "pygments_lexer": "ipython2",
   "version": "2.7.6"
  }
 },
 "nbformat": 4,
 "nbformat_minor": 0
}