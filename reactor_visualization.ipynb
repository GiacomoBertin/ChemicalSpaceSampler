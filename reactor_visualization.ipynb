{
 "cells": [
  {
   "cell_type": "code",
   "execution_count": 1,
   "outputs": [],
   "source": [
    "from plotly.offline import init_notebook_mode, iplot\n",
    "from visualization import *\n",
    "from reactor import Reactor\n",
    "from samplers import KNNSampler\n",
    "from supervisor import DrugDiscoverySupervisor"
   ],
   "metadata": {
    "collapsed": false,
    "pycharm": {
     "name": "#%%\n"
    }
   }
  },
  {
   "cell_type": "code",
   "execution_count": null,
   "outputs": [],
   "source": [
    "sampler = KNNSampler(\n",
    "    k,\n",
    "    featurization,\n",
    "    sampler_id=0\n",
    ")"
   ],
   "metadata": {
    "collapsed": false,
    "pycharm": {
     "name": "#%%\n"
    }
   }
  },
  {
   "cell_type": "code",
   "execution_count": null,
   "outputs": [],
   "source": [
    "supervisor = DrugDiscoverySupervisor(\n",
    "    starting_smiles='C[C@H]1C[C@H](c2cc(ccc2N1C(=O)C)c3ccc(cc3)C(=O)O)Nc4ccc(cc4)Cl',\n",
    "    working_directory='/home/giacomo/Documents/LCP_runs',\n",
    "    protein_pdb='4UYG',\n",
    "    log_file='/home/giacomo/Documents/LCP_runs/log.txt',\n",
    "    sampler=,\n",
    "    score=,\n",
    "    n_child=1000,\n",
    "    n_threads=1,\n",
    "    domain_selection=None,\n",
    "    n_max_parallel_process=10,\n",
    "    lag_iterations=5,\n",
    "    best_n_ligands=10,\n",
    "    run_id=0\n",
    ")"
   ],
   "metadata": {
    "collapsed": false,
    "pycharm": {
     "name": "#%%\n"
    }
   }
  },
  {
   "cell_type": "code",
   "execution_count": 2,
   "outputs": [
    {
     "name": "stdout",
     "output_type": "stream",
     "text": [
      "[['[H]C([H])([H])C#N', '9', None], ['COc1ccc2[nH]cc(CCNC(C)OC3(C(C)OC(C)=O)CC4C(CC3(C)O)C4(C)C)c2c1', '1', 'ZINC03921399'], ['COc1ccc2[nH]cc(CCN(C(C)=O)C(=S)NC34CCC(CC3Cl)C4)c2c1', '34', 'ZINC59950395'], ['C=C(CCC(=O)N(CCc1c[nH]c2ccc(OC)cc12)C(C)=O)C(C)(C)CC', '28', 'ZINC60314540'], ['COc1ccc2[nH]cc(CCN(C(C)=O)C(=O)c3cc(-c4cccs4)n(C)n3)c2c1', '20', 'ZINC12370336'], ['COc1ccc2[nH]cc(CCN(C(C)=O)C(C)=O)c2c1', '25', 'ZINC59804448'], ['[H]C([H])([H])C#N', '9', None], ['COc1ccc2[nH]cc(CCNC(C)OC(C)(C)C(O)(C(N)=O)c3ccccc3)c2c1', '1', 'ZINC01589683'], ['COc1ccc2[nH]cc(CCNC(C)OC(=O)OCCNC(=O)Oc3ccccc3)c2c1', '21', 'ZINC03185165'], ['COc1ccc2[nH]cc(CCN(C(C)=O)C(=O)N(c3cccnc3)C(C)O)c2c1', '25', 'ZINC00062836'], ['CCOP(NC(=O)OC(C)NCCc1c[nH]c2ccc(OC)cc12)OCC', '37', 'ZINC37629899'], ['[H]C([H])([H])C#N', '9', None], ['CCC=CCC(=O)OC(C)NCCc1c[nH]c2ccc(OC)cc12', '29', 'ZINC60314903'], ['[H]C([H])([H])C#N', '9', None], ['COc1ccc2[nH]cc(CCN(C(C)=O)C(=O)CC(C)c3ccc(C(C)(C)C)cc3)c2c1', '20', 'ZINC11629165'], ['COc1ccc2[nH]cc(CCN(C(C)=O)C(=O)NC(=O)C(Cl)C(C)Cl)c2c1', '33', 'ZINC59872059'], ['COc1ccc2[nH]cc(CCN(C(C)=O)C(=O)C3OC3(C)c3ccccc3)c2c1', '15', 'ZINC01571080'], ['COc1ccc2[nH]cc(CCNC(C)OC(C)=O)c2c1', '26', 'ZINC00027758'], ['COc1ccc2[nH]cc(CCN(C(C)=O)C(=O)C(Br)Cc3ccccc3)c2c1', '20', 'ZINC08619213'], ['COc1ccc2[nH]cc(CCNC(C)OC(=S)NC(=O)c3cc([N+](=O)[O-])c[n-]3)c2c1', '38', 'ZINC35660248'], ['[H]C([H])([H])C#N', '9', None], ['COc1ccc2[nH]cc(CCNC(C)OC(=O)C(C)c3ccc(C)cc3C)c2c1', '29', 'ZINC59093851'], ['[H]C([H])([H])C#N', '9', None], ['CCOc1ccccc1C(C)C(=O)OC(C)NCCc1c[nH]c2ccc(OC)cc12', '29', 'ZINC59093807'], ['CCCCC(N=C=S)C(=O)OC(C)NCCc1c[nH]c2ccc(OC)cc12', '26', 'ZINC04268888'], ['COc1ccc2[nH]cc(CCNC(C)OC(=S)NCCCC[NH+]3CCCC3)c2c1', '38', 'ZINC09246113'], ['CCC(C)OC(=O)N(CCc1c[nH]c2ccc(OC)cc12)C(C)=O', '14', 'ZINC36466127'], ['COc1ccc2[nH]cc(CCNC(C)OC(=O)C(C)c3ccc4c(c3)OCO4)c2c1', '29', 'ZINC59093901'], ['COc1ccc2[nH]cc(CCN(C(C)=O)C(=S)NC(C)c3ccc(C)cc3)c2c1', '34', 'ZINC09246076'], ['COc1ccc2[nH]cc(CCNC(C)OC(=O)CNC(=O)COc3ccccc3)c2c1', '21', 'ZINC11892338'], ['COc1ccc2[nH]cc(CCNC(C)OC(=O)N3CCC(N=[N+]=[N-])C(O)C3)c2c1', '26', 'ZINC34122494'], ['COc1ccc2[nH]cc(CCN(C(C)=O)C(=O)c3cc(F)c(F)c(Cl)c3F)c2c1', '20', 'ZINC02525760'], ['COc1ccc2[nH]cc(CCNC(C)OC(=S)NC(C)=O)c2c1', '38', 'ZINC02386803'], ['COC(=O)N(CCc1c[nH]c2ccc(OC)cc12)C(C)=O', '14', 'ZINC03860600'], ['[H]C([H])([H])C#N', '9', None], ['COc1ccc2[nH]cc(CCN(C(C)=O)C(=O)OC3CCC(C)(C)[NH+](C)C3(C)C)c2c1', '14', 'ZINC59663305'], ['C=C(C(=O)OC(C)NCCc1c[nH]c2ccc(OC)cc12)C1CC1', '16', 'ZINC59849064'], ['[H]C([H])([H])C#N', '9', None], ['COc1ccc2[nH]cc(CCN(C(C)=O)C(=S)Nc3ccc(C)c(F)c3)c2c1', '34', 'ZINC01870190'], ['COc1ccc2[nH]cc(CCNC(C)OC(=O)c3ccc(F)c(F)c3)c2c1', '21', 'ZINC02539282'], ['COc1ccc2[nH]cc(CCN(C(C)=O)C(=O)OC(C)Cl)c2c1', '14', 'ZINC02242593'], ['COc1ccc2[nH]cc(CCNC(C)OC(=S)Nc3ccc(Br)c(C)c3)c2c1', '38', 'ZINC02168966'], ['COc1ccc2[nH]cc(CCN(C(C)=O)C(=O)C(=Cc3ccco3)N=Cc3ccccc3)c2c1', '15', 'ZINC00047245'], ['COc1ccc2[nH]cc(CCNC(C)OC(=S)NC3CCCc4sccc43)c2c1', '38', 'ZINC60076419'], ['COc1ccc2[nH]cc(CCNC(C)OC(=O)C(N=C=S)c3ccccc3)c2c1', '16', 'ZINC40457225'], ['COc1ccc2[nH]cc(CCNC(C)OC(=O)c3cccc(C)c3O)c2c1', '21', 'ZINC05782628'], ['CCC(C)C(NC(=O)N(CCc1c[nH]c2ccc(OC)cc12)C(C)=O)C(=O)OC', '33', 'ZINC04267075'], ['[H]C([H])([H])N=[N+]=[N-]', '8', None], ['[H]C([H])([H])C#N', '9', None], ['COc1ccc2[nH]cc(CCN(C(C)=O)C(=O)OC3CS(=O)(=O)CC3O)c2c1', '14', 'ZINC01619189'], ['COc1ccc2[nH]cc(CCNC(C)OC(=O)c3ccccc3N)c2c1', '29', 'ZINC59341566'], ['C=CC(=O)OCCOC(=O)N(CCc1c[nH]c2ccc(OC)cc12)C(C)=O', '14', 'ZINC33506635'], ['COc1ccc2[nH]cc(CCN(C(C)=O)C(=O)OC3CS(=O)(=O)CC3Cl)c2c1', '14', 'ZINC03163173'], ['COc1ccc2[nH]cc(CCN(C(C)=O)C(=O)OOCC(Cl)(Cl)Cl)c2c1', '14', 'ZINC60049376'], ['COc1ccc2[nH]cc(CCNC(C)OC(=O)N3CC(O)CC3(C)OC)c2c1', '16', 'ZINC59768978'], ['[H]C([H])([H])C#N', '9', None], ['[H]C([H])([H])C#N', '9', None], ['COc1ccc2[nH]cc(CCNC(C)OC(=O)C=C(OC(C)CCl)c3ccccc3)c2c1', '16', 'ZINC00084706'], ['COc1ccc2[nH]cc(CCNC(C)OC(=O)C3CCCCCCC(CS)C(=O)N3)c2c1', '16', 'ZINC03791855'], ['COc1ccc2[nH]cc(CCN(C(C)=O)C(=O)NC(=O)C(C)OC(=O)c3cccs3)c2c1', '33', 'ZINC59804593'], ['COc1ccc2[nH]cc(CCN(C(C)=O)C(=O)NCCOc3ccc4ccccc4c3)c2c1', '33', 'ZINC19785952'], ['COC(=O)c1cc(NC(=O)OC(C)NCCc2c[nH]c3ccc(OC)cc23)cc(C(=O)OC)c1', '37', 'ZINC02384732'], ['COc1ccc2[nH]cc(CCN(C(C)=O)C(=O)c3ccc(OCC(C)=O)cc3)c2c1', '20', 'ZINC01619249'], ['[H]C([H])([H])N=[N+]=[N-]', '8', None], ['COc1ccc2[nH]cc(CCN(C(C)=O)C(=O)C3CC[NH2+]3)c2c1', '15', 'ZINC59498762'], ['COc1ccc2[nH]cc(CCNC(C)OC(=S)NC(C)c3ccc(C)cc3)c2c1', '38', 'ZINC09246076'], ['[H]C([H])([H])N=[N+]=[N-]', '8', None], ['[H]C([H])([H])C#N', '9', None], ['COc1ccc2[nH]cc(CCN(C(C)=O)C(=O)Cl)c2c1', '15', 'ZINC34767819'], ['COCC(Cc1ccc[nH+]c1)C(=O)OC(C)NCCc1c[nH]c2ccc(OC)cc12', '21', 'ZINC11633055'], ['[H]C([H])([H])N=[N+]=[N-]', '8', None], ['CCCC(C(=O)OC(C)NCCc1c[nH]c2ccc(OC)cc12)c1ccccc1', '29', 'ZINC59093984'], ['COc1ccc2[nH]cc(CCNC(C)OC(=O)c3ccc(C(=O)[O-])nc3)c2c1', '16', 'ZINC00016086'], ['C=C(C)OC(=O)N(CCc1c[nH]c2ccc(OC)cc12)C(C)=O', '14', 'ZINC02384739'], ['COc1ccc2[nH]cc(CCNC(C)OC(=O)CNC(=O)c3ccc(F)cc3)c2c1', '21', 'ZINC11892255'], ['CCCc1cncc(OC(=O)OC(C)NCCc2c[nH]c3ccc(OC)cc23)c1', '29', 'ZINC60046120'], ['[H]C([H])([H])N=[N+]=[N-]', '8', None], ['COc1ccc2[nH]cc(CCN(C(C)=O)C(=O)c3cc4c(s3)CCC(C)C4)c2c1', '20', 'ZINC02536632'], ['COc1ccc2[nH]cc(CCNC(C)OC(=O)c3ccc(CBr)cc3)c2c1', '16', 'ZINC00035771'], ['COc1ccc2[nH]cc(CCNC(C)OC(=O)C(C)Oc3cccc(Cl)c3)c2c1', '21', 'ZINC06183370'], ['COc1ccc2[nH]cc(CCNC(C)OC(=O)Nc3ccc(Cl)cc3Cl)c2c1', '37', 'ZINC00164882'], ['[H]C([H])([H])C#N', '9', None], ['COc1ccc2[nH]cc(CCN(C(C)=O)C(=O)Oc3ccccc3Cl)c2c1', '14', 'ZINC00403373'], ['CCOC(=O)C(C)C(C)=C(C#N)C(=O)OC(C)NCCc1c[nH]c2ccc(OC)cc12', '26', 'ZINC01635740'], ['COc1ccc2[nH]cc(CCN(C(C)=O)C(=O)C(C)NC(=O)C3CC3)c2c1', '20', 'ZINC11892590'], ['[H]C([H])([H])N=[N+]=[N-]', '8', None], ['COc1ccc2[nH]cc(CCN(C(C)=O)C(=O)C(C)c3ccc(OC)c(F)c3)c2c1', '28', 'ZINC59093992'], ['CC#CCCC(=O)N(CCc1c[nH]c2ccc(OC)cc12)C(C)=O', '25', 'ZINC01732392'], ['CCCOC(=O)N(CCc1c[nH]c2ccc(OC)cc12)C(C)=O', '28', 'ZINC60039451'], ['CCC(=O)N(CCc1c[nH]c2ccc(OC)cc12)C(C)=O', '28', 'ZINC08398945'], ['CCCC(C)(Br)C(=O)N(CCc1c[nH]c2ccc(OC)cc12)C(C)=O', '15', 'ZINC01556976'], ['CCC(NC(=S)OC(C)NCCc1c[nH]c2ccc(OC)cc12)C(C)(C)C', '38', 'ZINC60069007'], ['[H]C([H])([H])N=[N+]=[N-]', '8', None], ['CCCCC(=O)N(CCc1c[nH]c2ccc(OC)cc12)C(C)=O', '15', 'ZINC59032712'], ['COc1ccc2[nH]cc(CCNC(C)OC(=O)CC(N)c3ccccc3Cl)c2c1', '26', 'ZINC00043551'], ['[H]C([H])([H])N=[N+]=[N-]', '8', None], ['COc1ccc2[nH]cc(CCN(C(C)=O)C(=O)CC(c3ccc(C)cc3)C(C)(C)C)c2c1', '20', 'ZINC11629319'], ['COc1ccc2[nH]cc(CCNC(C)OC(=O)OC3CCCCC3C)c2c1', '29', 'ZINC59961735'], ['COc1ccc2[nH]cc(CCNC(C)OC(C#N)(c3ccccc3)C(O)(C#N)c3ccccc3)c2c1', '1', 'ZINC01559025'], ['COc1ccc2[nH]cc(CCN(C(C)=O)C(=O)Oc3ccc(C#N)cc3)c2c1', '14', 'ZINC34767850']]\n"
     ]
    }
   ],
   "source": [
    "reactor = Reactor([\"ClickChem\", \"\", \"\", \"\"], [], {})\n",
    "parent_smile = 'CC(=O)NCCc1c[nH]c2ccc(OC)cc12 '  # Melatonin\n",
    "child_info = reactor.run_Smile_Click(parent_smile)\n",
    "children = []\n",
    "n_child = 100\n",
    "\n",
    "for i in range(n_child):\n",
    "    child_info = reactor.run_Smile_Click(parent_smile)\n",
    "    if child_info is None:\n",
    "        continue\n",
    "    else:\n",
    "        children.append(child_info)\n",
    "        reactor.update_list_of_already_made_smiles(children)\n",
    "print(children)"
   ],
   "metadata": {
    "collapsed": false,
    "pycharm": {
     "name": "#%%\n"
    }
   }
  },
  {
   "cell_type": "code",
   "execution_count": 3,
   "outputs": [
    {
     "data": {
      "text/plain": "<IPython.lib.display.IFrame at 0x7f77802046d0>",
      "text/html": "\n        <iframe\n            width=\"100%\"\n            height=\"1000\"\n            src=\"http://127.0.0.1:8001/\"\n            frameborder=\"0\"\n            allowfullscreen\n            \n        ></iframe>\n        "
     },
     "metadata": {},
     "output_type": "display_data"
    }
   ],
   "source": [
    "app, fig = visualize_chemical_space([c[0] for c in children], components_mode='pca')\n",
    "app.run_server(mode='inline', port=8001, height=1000)"
   ],
   "metadata": {
    "collapsed": false,
    "pycharm": {
     "name": "#%%\n"
    }
   }
  },
  {
   "cell_type": "code",
   "execution_count": 4,
   "outputs": [
    {
     "data": {
      "application/3dmoljs_load.v0": "<div id=\"3dmolviewer_16533892498621924\"  style=\"position: relative; width: 640px; height: 480px\">\n        <p id=\"3dmolwarning_16533892498621924\" style=\"background-color:#ffcccc;color:black\">You appear to be running in JupyterLab (or JavaScript failed to load for some other reason).  You need to install the 3dmol extension: <br>\n        <tt>jupyter labextension install jupyterlab_3dmol</tt></p>\n        </div>\n<script>\n\nvar loadScriptAsync = function(uri){\n  return new Promise((resolve, reject) => {\n    var tag = document.createElement('script');\n    tag.src = uri;\n    tag.async = true;\n    tag.onload = () => {\n      resolve();\n    };\n  var firstScriptTag = document.getElementsByTagName('script')[0];\n  firstScriptTag.parentNode.insertBefore(tag, firstScriptTag);\n});\n};\n\nif(typeof $3Dmolpromise === 'undefined') {\n$3Dmolpromise = null;\n  $3Dmolpromise = loadScriptAsync('https://3dmol.org/build/3Dmol.js');\n}\n\nvar viewer_16533892498621924 = null;\nvar warn = document.getElementById(\"3dmolwarning_16533892498621924\");\nif(warn) {\n    warn.parentNode.removeChild(warn);\n}\n$3Dmolpromise.then(function() {\nviewer_16533892498621924 = $3Dmol.createViewer($(\"#3dmolviewer_16533892498621924\"),{backgroundColor:\"white\"});\nviewer_16533892498621924.zoomTo();\n\tviewer_16533892498621924.addModel(\"\\n     RDKit          3D\\n\\n 33 34  0  0  0  0  0  0  0  0999 V2000\\n   -5.1179    2.2564   -0.0199 C   0  0  0  0  0  0  0  0  0  0  0  0\\n   -4.0228    1.3021   -0.3712 C   0  0  0  0  0  0  0  0  0  0  0  0\\n   -3.3422    1.4344   -1.4079 O   0  0  0  0  0  0  0  0  0  0  0  0\\n   -3.7784    0.2273    0.5228 N   0  0  0  0  0  0  0  0  0  0  0  0\\n   -2.7545   -0.7747    0.3223 C   0  0  0  0  0  0  0  0  0  0  0  0\\n   -1.4169   -0.1105    0.2813 C   0  0  0  0  0  0  0  0  0  0  0  0\\n   -0.3114   -1.0890    0.0812 C   0  0  0  0  0  0  0  0  0  0  0  0\\n   -0.3652   -2.4586   -0.0632 C   0  0  0  0  0  0  0  0  0  0  0  0\\n    0.8875   -2.9126   -0.2187 N   0  0  0  0  0  0  0  0  0  0  0  0\\n    1.7661   -1.8978   -0.1827 C   0  0  0  0  0  0  0  0  0  0  0  0\\n    3.1606   -1.8594   -0.2967 C   0  0  0  0  0  0  0  0  0  0  0  0\\n    3.7850   -0.6326   -0.2162 C   0  0  0  0  0  0  0  0  0  0  0  0\\n    3.0306    0.5118   -0.0278 C   0  0  0  0  0  0  0  0  0  0  0  0\\n    3.6709    1.7279    0.0501 O   0  0  0  0  0  0  0  0  0  0  0  0\\n    5.0743    1.8691   -0.0534 C   0  0  0  0  0  0  0  0  0  0  0  0\\n    1.6586    0.4829    0.0852 C   0  0  0  0  0  0  0  0  0  0  0  0\\n    1.0205   -0.7529    0.0049 C   0  0  0  0  0  0  0  0  0  0  0  0\\n   -5.9716    1.6756    0.3845 H   0  0  0  0  0  0  0  0  0  0  0  0\\n   -5.4618    2.7696   -0.9348 H   0  0  0  0  0  0  0  0  0  0  0  0\\n   -4.7237    2.9541    0.7456 H   0  0  0  0  0  0  0  0  0  0  0  0\\n   -4.3660    0.1399    1.3843 H   0  0  0  0  0  0  0  0  0  0  0  0\\n   -2.9228   -1.2580   -0.6715 H   0  0  0  0  0  0  0  0  0  0  0  0\\n   -2.7616   -1.5240    1.1416 H   0  0  0  0  0  0  0  0  0  0  0  0\\n   -1.3661    0.5727   -0.5888 H   0  0  0  0  0  0  0  0  0  0  0  0\\n   -1.2393    0.5232    1.1780 H   0  0  0  0  0  0  0  0  0  0  0  0\\n   -1.2645   -3.0446   -0.0507 H   0  0  0  0  0  0  0  0  0  0  0  0\\n    1.1862   -3.9172   -0.3532 H   0  0  0  0  0  0  0  0  0  0  0  0\\n    3.7225   -2.7840   -0.4448 H   0  0  0  0  0  0  0  0  0  0  0  0\\n    4.8552   -0.5370   -0.2965 H   0  0  0  0  0  0  0  0  0  0  0  0\\n    5.6234    1.1368    0.5851 H   0  0  0  0  0  0  0  0  0  0  0  0\\n    5.3531    1.6929   -1.1097 H   0  0  0  0  0  0  0  0  0  0  0  0\\n    5.3295    2.8963    0.2780 H   0  0  0  0  0  0  0  0  0  0  0  0\\n    1.0624    1.3800    0.2333 H   0  0  0  0  0  0  0  0  0  0  0  0\\n  1  2  1  0\\n  2  3  2  0\\n  2  4  1  0\\n  4  5  1  0\\n  5  6  1  0\\n  6  7  1  0\\n  7  8  2  0\\n  8  9  1  0\\n  9 10  1  0\\n 10 11  2  0\\n 11 12  1  0\\n 12 13  2  0\\n 13 14  1  0\\n 14 15  1  0\\n 13 16  1  0\\n 16 17  2  0\\n 17  7  1  0\\n 17 10  1  0\\n  1 18  1  0\\n  1 19  1  0\\n  1 20  1  0\\n  4 21  1  0\\n  5 22  1  0\\n  5 23  1  0\\n  6 24  1  0\\n  6 25  1  0\\n  8 26  1  0\\n  9 27  1  0\\n 11 28  1  0\\n 12 29  1  0\\n 15 30  1  0\\n 15 31  1  0\\n 15 32  1  0\\n 16 33  1  0\\nM  END\\n\",\"mol\");\n\tviewer_16533892498621924.setStyle({\"stick\": {}});\n\tviewer_16533892498621924.setBackgroundColor(\"white\");\n\tviewer_16533892498621924.zoomTo();\nviewer_16533892498621924.render();\n});\n</script>",
      "text/html": "<div id=\"3dmolviewer_16533892498621924\"  style=\"position: relative; width: 640px; height: 480px\">\n        <p id=\"3dmolwarning_16533892498621924\" style=\"background-color:#ffcccc;color:black\">You appear to be running in JupyterLab (or JavaScript failed to load for some other reason).  You need to install the 3dmol extension: <br>\n        <tt>jupyter labextension install jupyterlab_3dmol</tt></p>\n        </div>\n<script>\n\nvar loadScriptAsync = function(uri){\n  return new Promise((resolve, reject) => {\n    var tag = document.createElement('script');\n    tag.src = uri;\n    tag.async = true;\n    tag.onload = () => {\n      resolve();\n    };\n  var firstScriptTag = document.getElementsByTagName('script')[0];\n  firstScriptTag.parentNode.insertBefore(tag, firstScriptTag);\n});\n};\n\nif(typeof $3Dmolpromise === 'undefined') {\n$3Dmolpromise = null;\n  $3Dmolpromise = loadScriptAsync('https://3dmol.org/build/3Dmol.js');\n}\n\nvar viewer_16533892498621924 = null;\nvar warn = document.getElementById(\"3dmolwarning_16533892498621924\");\nif(warn) {\n    warn.parentNode.removeChild(warn);\n}\n$3Dmolpromise.then(function() {\nviewer_16533892498621924 = $3Dmol.createViewer($(\"#3dmolviewer_16533892498621924\"),{backgroundColor:\"white\"});\nviewer_16533892498621924.zoomTo();\n\tviewer_16533892498621924.addModel(\"\\n     RDKit          3D\\n\\n 33 34  0  0  0  0  0  0  0  0999 V2000\\n   -5.1179    2.2564   -0.0199 C   0  0  0  0  0  0  0  0  0  0  0  0\\n   -4.0228    1.3021   -0.3712 C   0  0  0  0  0  0  0  0  0  0  0  0\\n   -3.3422    1.4344   -1.4079 O   0  0  0  0  0  0  0  0  0  0  0  0\\n   -3.7784    0.2273    0.5228 N   0  0  0  0  0  0  0  0  0  0  0  0\\n   -2.7545   -0.7747    0.3223 C   0  0  0  0  0  0  0  0  0  0  0  0\\n   -1.4169   -0.1105    0.2813 C   0  0  0  0  0  0  0  0  0  0  0  0\\n   -0.3114   -1.0890    0.0812 C   0  0  0  0  0  0  0  0  0  0  0  0\\n   -0.3652   -2.4586   -0.0632 C   0  0  0  0  0  0  0  0  0  0  0  0\\n    0.8875   -2.9126   -0.2187 N   0  0  0  0  0  0  0  0  0  0  0  0\\n    1.7661   -1.8978   -0.1827 C   0  0  0  0  0  0  0  0  0  0  0  0\\n    3.1606   -1.8594   -0.2967 C   0  0  0  0  0  0  0  0  0  0  0  0\\n    3.7850   -0.6326   -0.2162 C   0  0  0  0  0  0  0  0  0  0  0  0\\n    3.0306    0.5118   -0.0278 C   0  0  0  0  0  0  0  0  0  0  0  0\\n    3.6709    1.7279    0.0501 O   0  0  0  0  0  0  0  0  0  0  0  0\\n    5.0743    1.8691   -0.0534 C   0  0  0  0  0  0  0  0  0  0  0  0\\n    1.6586    0.4829    0.0852 C   0  0  0  0  0  0  0  0  0  0  0  0\\n    1.0205   -0.7529    0.0049 C   0  0  0  0  0  0  0  0  0  0  0  0\\n   -5.9716    1.6756    0.3845 H   0  0  0  0  0  0  0  0  0  0  0  0\\n   -5.4618    2.7696   -0.9348 H   0  0  0  0  0  0  0  0  0  0  0  0\\n   -4.7237    2.9541    0.7456 H   0  0  0  0  0  0  0  0  0  0  0  0\\n   -4.3660    0.1399    1.3843 H   0  0  0  0  0  0  0  0  0  0  0  0\\n   -2.9228   -1.2580   -0.6715 H   0  0  0  0  0  0  0  0  0  0  0  0\\n   -2.7616   -1.5240    1.1416 H   0  0  0  0  0  0  0  0  0  0  0  0\\n   -1.3661    0.5727   -0.5888 H   0  0  0  0  0  0  0  0  0  0  0  0\\n   -1.2393    0.5232    1.1780 H   0  0  0  0  0  0  0  0  0  0  0  0\\n   -1.2645   -3.0446   -0.0507 H   0  0  0  0  0  0  0  0  0  0  0  0\\n    1.1862   -3.9172   -0.3532 H   0  0  0  0  0  0  0  0  0  0  0  0\\n    3.7225   -2.7840   -0.4448 H   0  0  0  0  0  0  0  0  0  0  0  0\\n    4.8552   -0.5370   -0.2965 H   0  0  0  0  0  0  0  0  0  0  0  0\\n    5.6234    1.1368    0.5851 H   0  0  0  0  0  0  0  0  0  0  0  0\\n    5.3531    1.6929   -1.1097 H   0  0  0  0  0  0  0  0  0  0  0  0\\n    5.3295    2.8963    0.2780 H   0  0  0  0  0  0  0  0  0  0  0  0\\n    1.0624    1.3800    0.2333 H   0  0  0  0  0  0  0  0  0  0  0  0\\n  1  2  1  0\\n  2  3  2  0\\n  2  4  1  0\\n  4  5  1  0\\n  5  6  1  0\\n  6  7  1  0\\n  7  8  2  0\\n  8  9  1  0\\n  9 10  1  0\\n 10 11  2  0\\n 11 12  1  0\\n 12 13  2  0\\n 13 14  1  0\\n 14 15  1  0\\n 13 16  1  0\\n 16 17  2  0\\n 17  7  1  0\\n 17 10  1  0\\n  1 18  1  0\\n  1 19  1  0\\n  1 20  1  0\\n  4 21  1  0\\n  5 22  1  0\\n  5 23  1  0\\n  6 24  1  0\\n  6 25  1  0\\n  8 26  1  0\\n  9 27  1  0\\n 11 28  1  0\\n 12 29  1  0\\n 15 30  1  0\\n 15 31  1  0\\n 15 32  1  0\\n 16 33  1  0\\nM  END\\n\",\"mol\");\n\tviewer_16533892498621924.setStyle({\"stick\": {}});\n\tviewer_16533892498621924.setBackgroundColor(\"white\");\n\tviewer_16533892498621924.zoomTo();\nviewer_16533892498621924.render();\n});\n</script>"
     },
     "metadata": {},
     "output_type": "display_data"
    }
   ],
   "source": [
    "p = visualize_3d_mol(parent_smile)\n",
    "p.show()"
   ],
   "metadata": {
    "collapsed": false,
    "pycharm": {
     "name": "#%%\n"
    }
   }
  },
  {
   "cell_type": "code",
   "execution_count": 4,
   "outputs": [],
   "source": [],
   "metadata": {
    "collapsed": false,
    "pycharm": {
     "name": "#%%\n"
    }
   }
  }
 ],
 "metadata": {
  "kernelspec": {
   "display_name": "Python 3",
   "language": "python",
   "name": "python3"
  },
  "language_info": {
   "codemirror_mode": {
    "name": "ipython",
    "version": 2
   },
   "file_extension": ".py",
   "mimetype": "text/x-python",
   "name": "python",
   "nbconvert_exporter": "python",
   "pygments_lexer": "ipython2",
   "version": "2.7.6"
  }
 },
 "nbformat": 4,
 "nbformat_minor": 0
}