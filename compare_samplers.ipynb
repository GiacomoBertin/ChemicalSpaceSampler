{
 "cells": [
  {
   "cell_type": "code",
   "execution_count": 23,
   "metadata": {
    "collapsed": true,
    "pycharm": {
     "name": "#%%\n"
    }
   },
   "outputs": [],
   "source": [
    "import torch\n",
    "\n",
    "from factory import *\n",
    "from net_utility import test_sampler, plot_violin, plot_box, plot_loss_vs_size, multiple_evaluations, multiple_evaluations_VAE\n",
    "import os.path as osp\n",
    "\n",
    "\n",
    "def load_dataset(file_dg, file_smiles):\n",
    "    dataset = {}\n",
    "    with open(file_dg) as f_dg:\n",
    "        for line in f_dg:\n",
    "            w = line.split()\n",
    "            name = w[0][w[0].index('_') + 1:].replace('_', ' ')\n",
    "            dg = float(w[1])\n",
    "            dataset[name] = {'dg': dg, 'smiles': None}\n",
    "\n",
    "    smiles = []\n",
    "    dg = []\n",
    "    with open(file_smiles) as f_smiles:\n",
    "        for line in f_smiles:\n",
    "            w = line.split('\\t')\n",
    "            if len(w) == 3 and w[0] in dataset.keys():\n",
    "                name = w[0]\n",
    "                dataset[name]['smiles'] = w[-1].replace('\\n', '')\n",
    "                smiles.append(dataset[name]['smiles'])\n",
    "                dg.append(dataset[name]['dg'])\n",
    "\n",
    "    return dataset, smiles, dg\n",
    "\n",
    "\n",
    "dataset, smiles, dg = load_dataset('./DatabaseOMSDrugs_scores.dat', './DatabaseOMSDrugs.dat')\n",
    "\n",
    "run_id = 4"
   ]
  },
  {
   "cell_type": "code",
   "execution_count": null,
   "outputs": [
    {
     "name": "stdout",
     "output_type": "stream",
     "text": [
      "{'kwargs': {'batch_size': 64,\n",
      "            'best_n': 20,\n",
      "            'chkpt_path': None,\n",
      "            'epochs': 30,\n",
      "            'featurization': {'kwargs': {'graph_lib': 'pyg',\n",
      "                                         'use_chirality': True,\n",
      "                                         'use_edges': True,\n",
      "                                         'use_partial_charge': True},\n",
      "                              'name': 'GraphFeaturization'},\n",
      "            'lr': 0.01,\n",
      "            'net': {'kwargs': {'concat': False,\n",
      "                               'dropout': 0.2,\n",
      "                               'edge_dim': 11,\n",
      "                               'heads': 4,\n",
      "                               'hidden_channels': 64,\n",
      "                               'input_channels': 33,\n",
      "                               'num_final_layers': 4,\n",
      "                               'num_layers': 4,\n",
      "                               'output_channels': 1,\n",
      "                               'use_batch_norm': True},\n",
      "                    'name': 'GATNet'},\n",
      "            'save_every': 50},\n",
      " 'name': 'GCNActiveLearning'}\n",
      "{'kwargs': {'graph_lib': 'pyg',\n",
      "            'use_chirality': True,\n",
      "            'use_edges': True,\n",
      "            'use_partial_charge': True},\n",
      " 'name': 'GraphFeaturization'}\n",
      "{'kwargs': {'concat': False,\n",
      "            'dropout': 0.2,\n",
      "            'edge_dim': 11,\n",
      "            'heads': 4,\n",
      "            'hidden_channels': 64,\n",
      "            'input_channels': 33,\n",
      "            'num_final_layers': 4,\n",
      "            'num_layers': 4,\n",
      "            'output_channels': 1,\n",
      "            'use_batch_norm': True},\n",
      " 'name': 'GATNet'}\n",
      "step 0\n"
     ]
    },
    {
     "name": "stderr",
     "output_type": "stream",
     "text": [
      "100%|██████████| 21/21 [00:18<00:00,  1.16it/s]\n"
     ]
    },
    {
     "name": "stdout",
     "output_type": "stream",
     "text": [
      "20\n"
     ]
    },
    {
     "name": "stderr",
     "output_type": "stream",
     "text": [
      "loss: 0.99 : 100%|██████████| 30/30 [00:05<00:00,  5.01it/s]\n"
     ]
    },
    {
     "name": "stdout",
     "output_type": "stream",
     "text": [
      "step 1\n"
     ]
    },
    {
     "name": "stderr",
     "output_type": "stream",
     "text": [
      "100%|██████████| 21/21 [00:14<00:00,  1.45it/s]\n"
     ]
    },
    {
     "name": "stdout",
     "output_type": "stream",
     "text": [
      "40\n"
     ]
    },
    {
     "name": "stderr",
     "output_type": "stream",
     "text": [
      "loss: 0.40 : 100%|██████████| 30/30 [00:09<00:00,  3.25it/s]\n"
     ]
    },
    {
     "name": "stdout",
     "output_type": "stream",
     "text": [
      "step 2\n"
     ]
    },
    {
     "name": "stderr",
     "output_type": "stream",
     "text": [
      "100%|██████████| 21/21 [00:14<00:00,  1.47it/s]\n"
     ]
    },
    {
     "name": "stdout",
     "output_type": "stream",
     "text": [
      "60\n"
     ]
    },
    {
     "name": "stderr",
     "output_type": "stream",
     "text": [
      "loss: 0.43 : 100%|██████████| 30/30 [00:15<00:00,  1.92it/s]\n"
     ]
    },
    {
     "name": "stdout",
     "output_type": "stream",
     "text": [
      "step 3\n"
     ]
    },
    {
     "name": "stderr",
     "output_type": "stream",
     "text": [
      "100%|██████████| 21/21 [00:14<00:00,  1.47it/s]\n"
     ]
    },
    {
     "name": "stdout",
     "output_type": "stream",
     "text": [
      "80\n"
     ]
    },
    {
     "name": "stderr",
     "output_type": "stream",
     "text": [
      "loss: 0.63 : 100%|██████████| 30/30 [00:21<00:00,  1.42it/s]\n"
     ]
    },
    {
     "name": "stdout",
     "output_type": "stream",
     "text": [
      "step 4\n"
     ]
    },
    {
     "name": "stderr",
     "output_type": "stream",
     "text": [
      "100%|██████████| 20/20 [00:13<00:00,  1.49it/s]\n"
     ]
    },
    {
     "name": "stdout",
     "output_type": "stream",
     "text": [
      "100\n"
     ]
    },
    {
     "name": "stderr",
     "output_type": "stream",
     "text": [
      "loss: 0.35 : 100%|██████████| 30/30 [00:26<00:00,  1.14it/s]\n"
     ]
    },
    {
     "name": "stdout",
     "output_type": "stream",
     "text": [
      "{'kwargs': {'batch_size': 64,\n",
      "            'best_n': 20,\n",
      "            'chkpt_path': None,\n",
      "            'epochs': 30,\n",
      "            'featurization': {'kwargs': {'graph_lib': 'pyg',\n",
      "                                         'use_chirality': True,\n",
      "                                         'use_edges': True,\n",
      "                                         'use_partial_charge': True},\n",
      "                              'name': 'GraphFeaturization'},\n",
      "            'lr': 0.01,\n",
      "            'net': {'kwargs': {'concat': False,\n",
      "                               'dropout': 0.2,\n",
      "                               'edge_dim': 11,\n",
      "                               'heads': 4,\n",
      "                               'hidden_channels': 64,\n",
      "                               'input_channels': 33,\n",
      "                               'num_final_layers': 4,\n",
      "                               'num_layers': 4,\n",
      "                               'output_channels': 1,\n",
      "                               'use_batch_norm': True},\n",
      "                    'name': 'GATNet'},\n",
      "            'save_every': 50},\n",
      " 'name': 'GCNActiveLearning'}\n",
      "{'kwargs': {'graph_lib': 'pyg',\n",
      "            'use_chirality': True,\n",
      "            'use_edges': True,\n",
      "            'use_partial_charge': True},\n",
      " 'name': 'GraphFeaturization'}\n",
      "{'kwargs': {'concat': False,\n",
      "            'dropout': 0.2,\n",
      "            'edge_dim': 11,\n",
      "            'heads': 4,\n",
      "            'hidden_channels': 64,\n",
      "            'input_channels': 33,\n",
      "            'num_final_layers': 4,\n",
      "            'num_layers': 4,\n",
      "            'output_channels': 1,\n",
      "            'use_batch_norm': True},\n",
      " 'name': 'GATNet'}\n",
      "step 0\n"
     ]
    },
    {
     "name": "stderr",
     "output_type": "stream",
     "text": [
      "100%|██████████| 21/21 [00:15<00:00,  1.38it/s]\n"
     ]
    },
    {
     "name": "stdout",
     "output_type": "stream",
     "text": [
      "20\n"
     ]
    },
    {
     "name": "stderr",
     "output_type": "stream",
     "text": [
      "loss: 0.75 : 100%|██████████| 30/30 [00:04<00:00,  6.71it/s]\n"
     ]
    },
    {
     "name": "stdout",
     "output_type": "stream",
     "text": [
      "step 1\n"
     ]
    },
    {
     "name": "stderr",
     "output_type": "stream",
     "text": [
      "100%|██████████| 21/21 [00:14<00:00,  1.49it/s]\n"
     ]
    },
    {
     "name": "stdout",
     "output_type": "stream",
     "text": [
      "40\n"
     ]
    },
    {
     "name": "stderr",
     "output_type": "stream",
     "text": [
      "loss: 0.46 : 100%|██████████| 30/30 [00:13<00:00,  2.30it/s]\n"
     ]
    },
    {
     "name": "stdout",
     "output_type": "stream",
     "text": [
      "step 2\n"
     ]
    },
    {
     "name": "stderr",
     "output_type": "stream",
     "text": [
      "100%|██████████| 21/21 [00:14<00:00,  1.47it/s]\n"
     ]
    },
    {
     "name": "stdout",
     "output_type": "stream",
     "text": [
      "60\n"
     ]
    },
    {
     "name": "stderr",
     "output_type": "stream",
     "text": [
      "loss: 0.45 : 100%|██████████| 30/30 [00:18<00:00,  1.58it/s]\n"
     ]
    },
    {
     "name": "stdout",
     "output_type": "stream",
     "text": [
      "step 3\n"
     ]
    },
    {
     "name": "stderr",
     "output_type": "stream",
     "text": [
      " 29%|██▊       | 6/21 [00:04<00:10,  1.39it/s]"
     ]
    }
   ],
   "source": [
    "file_name = f'/home/giacomo/Documents/LCP_runs/sampler_test/run_{run_id}_GATNet.pth'\n",
    "# supervisor = build_supervisor('config/config_GATNet_0.yml')\n",
    "if not osp.exists(file_name):\n",
    "    min_dg_GAT = test_sampler('config/config_GATNet_0.yml', smiles, dg, num_iterations=5, file_name=file_name)\n",
    "\n",
    "else:\n",
    "    min_dg_GAT = torch.load(file_name)['min_dg']\n"
   ],
   "metadata": {
    "collapsed": false,
    "pycharm": {
     "name": "#%%\n",
     "is_executing": true
    }
   }
  },
  {
   "cell_type": "code",
   "execution_count": null,
   "outputs": [],
   "source": [
    "file_name = f'/home/giacomo/Documents/LCP_runs/sampler_test/run_{run_id}_FNet.pth'\n",
    "# supervisor = build_supervisor('config/config_FNet_0.yml')\n",
    "if not osp.exists(file_name):\n",
    "    min_dg_F = test_sampler('config/config_FNet_0.yml', smiles, dg, num_iterations=5, file_name=file_name)\n",
    "\n",
    "else:\n",
    "    min_dg_F = torch.load(file_name)['min_dg']\n"
   ],
   "metadata": {
    "collapsed": false,
    "pycharm": {
     "name": "#%%\n",
     "is_executing": true
    }
   }
  },
  {
   "cell_type": "code",
   "execution_count": null,
   "outputs": [],
   "source": [
    "file_name = f'/home/giacomo/Documents/LCP_runs/sampler_test/run_{run_id}_OHNet.pth'\n",
    "# supervisor = build_supervisor('config/config_OHNet_0.yml')\n",
    "if not osp.exists(file_name):\n",
    "    min_dg_OH = test_sampler('config/config_OHNet_0.yml', smiles, dg, num_iterations=5, file_name=file_name)\n",
    "\n",
    "else:\n",
    "    min_dg_OH = torch.load(file_name)['min_dg']\n"
   ],
   "metadata": {
    "collapsed": false,
    "pycharm": {
     "name": "#%%\n",
     "is_executing": true
    }
   }
  },
  {
   "cell_type": "code",
   "execution_count": null,
   "outputs": [],
   "source": [
    "file_name = f'/home/giacomo/Documents/LCP_runs/sampler_test/run_{run_id}_KNN_PCA.pth'\n",
    "# supervisor = build_supervisor('config/config_OHNet_0.yml')\n",
    "if not osp.exists(file_name):\n",
    "    min_dg_KNN_PCA = test_sampler('config/config_KNN_PCA_0.yml', smiles, dg, num_iterations=5, file_name=file_name)\n",
    "else:\n",
    "    min_dg_KNN_PCA = torch.load(file_name)['min_dg']"
   ],
   "metadata": {
    "collapsed": false,
    "pycharm": {
     "name": "#%%\n",
     "is_executing": true
    }
   }
  },
  {
   "cell_type": "code",
   "execution_count": null,
   "outputs": [],
   "source": [
    "file_name = f'/home/giacomo/Documents/LCP_runs/sampler_test/run_{run_id}_KNN_VAE_OH.pth'\n",
    "# supervisor = build_supervisor('config/config_OHNet_0.yml')\n",
    "if not osp.exists(file_name):\n",
    "    min_dg_KNN_VAE_OH = test_sampler('config/config_KNN_VAE_OH_0.yml', smiles, dg, num_iterations=5, file_name=file_name)\n",
    "else:\n",
    "    min_dg_KNN_VAE_OH = torch.load(file_name)['min_dg']"
   ],
   "metadata": {
    "collapsed": false,
    "pycharm": {
     "name": "#%%\n",
     "is_executing": true
    }
   }
  },
  {
   "cell_type": "code",
   "execution_count": null,
   "outputs": [],
   "source": [
    "file_name = f'/home/giacomo/Documents/LCP_runs/sampler_test/run_{run_id}_KNN_VAE_F.pth'\n",
    "# supervisor = build_supervisor('config/config_OHNet_0.yml')\n",
    "if not osp.exists(file_name):\n",
    "    min_dg_KNN_PCA_VAE_F = test_sampler('config/config_KNN_VAE_F_0.yml', smiles, dg, num_iterations=5, file_name=file_name)\n",
    "else:\n",
    "    min_dg_KNN_PCA_VAE_F = torch.load(file_name)['min_dg']"
   ],
   "metadata": {
    "collapsed": false,
    "pycharm": {
     "name": "#%%\n",
     "is_executing": true
    }
   }
  },
  {
   "cell_type": "code",
   "execution_count": null,
   "outputs": [],
   "source": [
    "min_dg_F"
   ],
   "metadata": {
    "collapsed": false,
    "pycharm": {
     "name": "#%%\n",
     "is_executing": true
    }
   }
  },
  {
   "cell_type": "code",
   "execution_count": null,
   "outputs": [],
   "source": [
    "min_dg_GAT"
   ],
   "metadata": {
    "collapsed": false,
    "pycharm": {
     "name": "#%%\n",
     "is_executing": true
    }
   }
  },
  {
   "cell_type": "code",
   "execution_count": null,
   "outputs": [],
   "source": [
    "min_dg_OH"
   ],
   "metadata": {
    "collapsed": false,
    "pycharm": {
     "name": "#%%\n",
     "is_executing": true
    }
   }
  },
  {
   "cell_type": "code",
   "execution_count": null,
   "outputs": [],
   "source": [
    "plot_box({'GATNet': min_dg_GAT, 'FNet': min_dg_F, 'OHNet': min_dg_OH, 'KNN_PCA': min_dg_KNN_PCA, 'KNN_VAE_F': min_dg_KNN_PCA_VAE_F, 'KNN_VAE_OH': min_dg_KNN_VAE_OH}).show()"
   ],
   "metadata": {
    "collapsed": false,
    "pycharm": {
     "name": "#%%\n",
     "is_executing": true
    }
   }
  },
  {
   "cell_type": "code",
   "execution_count": null,
   "outputs": [],
   "source": [
    "file_name = f'/home/giacomo/Documents/LCP_runs/sampler_test/eval_results_{run_id}_GATNet.pth'\n",
    "if not osp.exists(file_name):\n",
    "    supervisor = build_supervisor('config/config_GATNet_0.yml')\n",
    "    _ = multiple_evaluations(supervisor.sampler.net,\n",
    "                             nn.L1Loss(),\n",
    "                             supervisor.sampler.featurization,\n",
    "                             smiles,\n",
    "                             dg,\n",
    "                             n_incrementation=200,\n",
    "                             batch_size=32,\n",
    "                             lr=1e-3,\n",
    "                             epochs=100,\n",
    "                             num_runs=10,\n",
    "                             file_path=file_name\n",
    "                             )\n",
    "\n",
    "eval_results_GATNet = torch.load(file_name)['losses']\n"
   ],
   "metadata": {
    "collapsed": false,
    "pycharm": {
     "name": "#%%\n",
     "is_executing": true
    }
   }
  },
  {
   "cell_type": "code",
   "execution_count": null,
   "outputs": [],
   "source": [
    "file_name = f'/home/giacomo/Documents/LCP_runs/sampler_test/eval_results_{run_id}_FNet.pth'\n",
    "if not osp.exists(file_name):\n",
    "    supervisor = build_supervisor('config/config_FNet_0.yml')\n",
    "    _ = multiple_evaluations(supervisor.sampler.net,\n",
    "                             nn.L1Loss(),\n",
    "                             supervisor.sampler.featurization,\n",
    "                             smiles,\n",
    "                             dg,\n",
    "                             n_incrementation=200,\n",
    "                             batch_size=32,\n",
    "                             lr=1e-3,\n",
    "                             epochs=100,\n",
    "                             num_runs=10,\n",
    "                             file_path=file_name\n",
    "                             )\n",
    "\n",
    "eval_results_FNet = torch.load(file_name)['losses']"
   ],
   "metadata": {
    "collapsed": false,
    "pycharm": {
     "name": "#%%\n",
     "is_executing": true
    }
   }
  },
  {
   "cell_type": "code",
   "execution_count": null,
   "outputs": [],
   "source": [
    "file_name = f'/home/giacomo/Documents/LCP_runs/sampler_test/eval_results_{run_id}_OHNet.pth'\n",
    "if not osp.exists(file_name):\n",
    "    supervisor = build_supervisor('config/config_OHNet_0.yml')\n",
    "    _ = multiple_evaluations(supervisor.sampler.net,\n",
    "                             nn.L1Loss(),\n",
    "                             supervisor.sampler.featurization,\n",
    "                             smiles,\n",
    "                             dg,\n",
    "                             n_incrementation=200,\n",
    "                             batch_size=32,\n",
    "                             lr=1e-3,\n",
    "                             epochs=100,\n",
    "                             num_runs=10,\n",
    "                             file_path=file_name\n",
    "                             )\n",
    "\n",
    "eval_results_OHNet = torch.load(file_name)['losses']"
   ],
   "metadata": {
    "collapsed": false,
    "pycharm": {
     "name": "#%%\n",
     "is_executing": true
    }
   }
  },
  {
   "cell_type": "code",
   "execution_count": null,
   "outputs": [],
   "source": [
    "plot = plot_loss_vs_size({'GATNet': eval_results_GATNet, 'FNet': eval_results_FNet, 'OHNet': eval_results_OHNet})\n",
    "plot.show()"
   ],
   "metadata": {
    "collapsed": false,
    "pycharm": {
     "name": "#%%\n",
     "is_executing": true
    }
   }
  },
  {
   "cell_type": "markdown",
   "source": [
    "### VAE"
   ],
   "metadata": {
    "collapsed": false,
    "pycharm": {
     "name": "#%% md\n"
    }
   }
  },
  {
   "cell_type": "code",
   "execution_count": null,
   "outputs": [],
   "source": [
    "file_name = f'/home/giacomo/Documents/LCP_runs/sampler_test/eval_results_{run_id}_FVAE.pth'\n",
    "if not osp.exists(file_name):\n",
    "    supervisor = build_supervisor('config/config_KNN_VAE_F_0.yml')\n",
    "\n",
    "    print(supervisor.sampler.featurization.encoder)\n",
    "    print(supervisor.sampler.featurization.decoder)\n",
    "\n",
    "    _ = multiple_evaluations_VAE(supervisor.sampler.featurization.encoder,\n",
    "                                 supervisor.sampler.featurization.decoder,\n",
    "                                 supervisor.sampler.featurization.criterion,\n",
    "                                 supervisor.sampler.featurization.smile_to_tensor,\n",
    "                                 smiles,\n",
    "                                 n_incrementation=200,\n",
    "                                 batch_size=64,\n",
    "                                 lr=1e-2,\n",
    "                                 epochs=100,\n",
    "                                 n_max_test=5,\n",
    "                                 num_runs=5,\n",
    "                                 file_path=file_name\n",
    "                                 )\n",
    "\n",
    "eval_results_FVAE = torch.load(file_name)['losses']"
   ],
   "metadata": {
    "collapsed": false,
    "pycharm": {
     "name": "#%%\n",
     "is_executing": true
    }
   }
  },
  {
   "cell_type": "code",
   "execution_count": null,
   "outputs": [],
   "source": [
    "file_name = f'/home/giacomo/Documents/LCP_runs/sampler_test/eval_results_{run_id}_OHVAE.pth'\n",
    "if not osp.exists(file_name):\n",
    "    supervisor = build_supervisor('config/config_KNN_VAE_OH_0.yml')\n",
    "\n",
    "    print(supervisor.sampler.featurization.encoder)\n",
    "    print(supervisor.sampler.featurization.decoder)\n",
    "\n",
    "    _ = multiple_evaluations_VAE(supervisor.sampler.featurization.encoder,\n",
    "                                 supervisor.sampler.featurization.decoder,\n",
    "                                 supervisor.sampler.featurization.criterion,\n",
    "                                 supervisor.sampler.featurization.smile_to_tensor,\n",
    "                                 smiles,\n",
    "                                 n_incrementation=200,\n",
    "                                 batch_size=64,\n",
    "                                 lr=1e-2,\n",
    "                                 epochs=40,\n",
    "                                 n_max_test=5,\n",
    "                                 num_runs=2,\n",
    "                                 file_path=file_name\n",
    "                                 )\n",
    "\n",
    "eval_results_OHVAE = torch.load(file_name)['losses']\n"
   ],
   "metadata": {
    "collapsed": false,
    "pycharm": {
     "name": "#%%\n",
     "is_executing": true
    }
   }
  },
  {
   "cell_type": "markdown",
   "source": [],
   "metadata": {
    "collapsed": false,
    "pycharm": {
     "name": "#%% md\n"
    }
   }
  },
  {
   "cell_type": "code",
   "execution_count": null,
   "outputs": [],
   "source": [
    "plot = plot_loss_vs_size({'FVAE': eval_results_FVAE, 'OHVAE': eval_results_OHVAE})\n",
    "plot.update_layout(\n",
    "    title=\"BCE Loss vs Dataset Size\",\n",
    "    xaxis_title=\"Dataset Size\",\n",
    "    yaxis_title=\"BCE Loss\",\n",
    "    paper_bgcolor='rgba(0,0,0,0)',\n",
    "    plot_bgcolor='rgba(0,0,0,0)',\n",
    "    font=dict(\n",
    "        family=\"Courier New, monospace\",\n",
    "        size=18,\n",
    "        color=\"rgba(255,255,255,1)\"\n",
    "    )\n",
    ")\n",
    "\n",
    "plot.show()"
   ],
   "metadata": {
    "collapsed": false,
    "pycharm": {
     "name": "#%%\n",
     "is_executing": true
    }
   }
  },
  {
   "cell_type": "code",
   "execution_count": null,
   "outputs": [],
   "source": [],
   "metadata": {
    "collapsed": false,
    "pycharm": {
     "name": "#%%\n",
     "is_executing": true
    }
   }
  }
 ],
 "metadata": {
  "kernelspec": {
   "display_name": "Python 3",
   "language": "python",
   "name": "python3"
  },
  "language_info": {
   "codemirror_mode": {
    "name": "ipython",
    "version": 2
   },
   "file_extension": ".py",
   "mimetype": "text/x-python",
   "name": "python",
   "nbconvert_exporter": "python",
   "pygments_lexer": "ipython2",
   "version": "2.7.6"
  }
 },
 "nbformat": 4,
 "nbformat_minor": 0
}